{
 "cells": [
  {
   "cell_type": "markdown",
   "id": "3c456020",
   "metadata": {},
   "source": [
    "# CFA-related Functions\n",
    "Although the CFA did not work out as planned, I still kept the most important CFA functions, in case this could become useful in the future. "
   ]
  },
  {
   "cell_type": "code",
   "execution_count": null,
   "id": "cfa059a7",
   "metadata": {},
   "outputs": [],
   "source": [
    "def make_CFA_dict(df):\n",
    "    \n",
    "    factor_dict = {}\n",
    "\n",
    "    CFA_index = set()\n",
    "    \n",
    "    i = 1\n",
    "    for col in df.columns:\n",
    "        df.rename(columns={df.columns[col]: 'F'+ str(i)}, inplace = True)  \n",
    "        i = i +1 \n",
    "\n",
    "    # subselect only primary loadings for a given factor (no crossloadings)\n",
    "    for num in range(1,df.shape[1]+1):\n",
    "        col_index = 'F'+ str(num)\n",
    "        F_loadings = df[df[col_index] > .35]\n",
    "\n",
    "        # remove this part if you want all loadings\n",
    "        for item in F_loadings[col_index]:\n",
    "            \n",
    "            row_vals = F_loadings.loc[F_loadings[col_index] == item].to_numpy()\n",
    "            row_vals[row_vals == item] = 0\n",
    "            row_vals = (row_vals + .1)\n",
    "\n",
    "            if (item <= row_vals).any(): \n",
    "                new_F_loadings = F_loadings.drop(index = F_loadings.loc[F_loadings[col_index] == item].index, axis = 0)\n",
    "                \n",
    "            else:\n",
    "                new_F_loadings = F_loadings[col_index]\n",
    "                \n",
    "                \n",
    "        factor_dict[col_index] = new_F_loadings.index  \n",
    "        CFA_index = CFA_index.union(set(new_F_loadings.index))\n",
    "\n",
    "    return factor_dict, CFA_index\n",
    "    "
   ]
  },
  {
   "cell_type": "markdown",
   "id": "ad9edc25",
   "metadata": {},
   "source": [
    "## Important Note: \n",
    "For this code to run, you need to give it the data."
   ]
  },
  {
   "cell_type": "code",
   "execution_count": null,
   "id": "3d937dac",
   "metadata": {},
   "outputs": [],
   "source": [
    "explore_df = baseline_2.sample(frac=0.5,random_state=200) #random state is a seed value\\n\",\n",
    "test_df = baseline_2.drop(explore_df.index)"
   ]
  },
  {
   "cell_type": "code",
   "execution_count": null,
   "id": "253e1ec3",
   "metadata": {},
   "outputs": [],
   "source": [
    "CFA_df = get_question_items(test_df)"
   ]
  },
  {
   "cell_type": "code",
   "execution_count": null,
   "id": "2dbe59d3",
   "metadata": {},
   "outputs": [],
   "source": [
    "EFA_data = new_rotated_loadings_abs_2.drop(list_to_drop)"
   ]
  },
  {
   "cell_type": "code",
   "execution_count": null,
   "id": "8b257cc4",
   "metadata": {},
   "outputs": [],
   "source": [
    "CFA_dict_6, CFA_index_6 = make_CFA_dict(EFA_data)"
   ]
  },
  {
   "cell_type": "code",
   "execution_count": null,
   "id": "435372c1",
   "metadata": {},
   "outputs": [],
   "source": [
    "CFA_df_6= CFA_df.loc[:,list(CFA_index_6)]"
   ]
  },
  {
   "cell_type": "code",
   "execution_count": null,
   "id": "74a2f62a",
   "metadata": {},
   "outputs": [],
   "source": [
    "model_spec_6 = ModelSpecificationParser.parse_model_specification_from_dict(CFA_df_6, CFA_dict_6)\n",
    "cfa_test_6 = ConfirmatoryFactorAnalyzer(model_spec_6, max_iter= 200)\n",
    "cfa_test_6.fit(CFA_df_6.values)\n",
    "\n",
    "# test statistics\n",
    "cfa_test_6.aic_ # 906.0 for 6 factors and 54 items\n",
    "cfa_test_6.bic_ # 3935.87 for 6 factors and 54 items"
   ]
  },
  {
   "cell_type": "code",
   "execution_count": null,
   "id": "ade6ea34",
   "metadata": {},
   "outputs": [],
   "source": [
    "# Implement the Chi-squared test statistics; fun comes directly from the minimize results object\n",
    "res_fun = -(cfa_test_6.log_likelihood_)\n",
    "chi2 = cfa_test_6.n_obs * res_fun\n",
    "chi2\n"
   ]
  },
  {
   "cell_type": "code",
   "execution_count": null,
   "id": "de903057",
   "metadata": {},
   "outputs": [],
   "source": [
    "pd.DataFrame(cfa_test_6.get_standard_errors()[0])"
   ]
  },
  {
   "cell_type": "code",
   "execution_count": null,
   "id": "c1315332",
   "metadata": {},
   "outputs": [],
   "source": [
    "cfa_test_6.get_standard_errors()[1]"
   ]
  },
  {
   "cell_type": "code",
   "execution_count": null,
   "id": "cc9b146c",
   "metadata": {},
   "outputs": [],
   "source": [
    "CFA_6_loadings = pd.DataFrame(cfa_test_6.loadings_)\n",
    "CFA_6_loadings"
   ]
  }
 ],
 "metadata": {
  "kernelspec": {
   "display_name": "Python 3 (ipykernel)",
   "language": "python",
   "name": "python3"
  },
  "language_info": {
   "codemirror_mode": {
    "name": "ipython",
    "version": 3
   },
   "file_extension": ".py",
   "mimetype": "text/x-python",
   "name": "python",
   "nbconvert_exporter": "python",
   "pygments_lexer": "ipython3",
   "version": "3.9.13"
  }
 },
 "nbformat": 4,
 "nbformat_minor": 5
}
