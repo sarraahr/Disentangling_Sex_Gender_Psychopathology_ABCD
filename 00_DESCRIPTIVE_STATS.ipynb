{
 "cells": [
  {
   "cell_type": "code",
   "execution_count": 1,
   "id": "7c8ca0b9",
   "metadata": {},
   "outputs": [],
   "source": [
    "%load_ext autoreload\n",
    "%autoreload 2\n",
    "from helper import *\n",
    "%config InlineBackend.figure_format='retina'"
   ]
  },
  {
   "cell_type": "markdown",
   "id": "6541a314",
   "metadata": {},
   "source": [
    "## Descriptive Statistics Baseline"
   ]
  },
  {
   "cell_type": "code",
   "execution_count": 2,
   "id": "d20cf85a",
   "metadata": {},
   "outputs": [],
   "source": [
    "abcd_baseline = abcd_data(measurement = 'baseline', load = True)\n"
   ]
  },
  {
   "cell_type": "code",
   "execution_count": 12,
   "id": "7d87c807",
   "metadata": {},
   "outputs": [
    {
     "name": "stdout",
     "output_type": "stream",
     "text": [
      "47.83% of the subjects are female. \n",
      "52.17% of the subjects are male. \n"
     ]
    }
   ],
   "source": [
    "# sex ratio\n",
    "fem_perc = sum(abcd_baseline['sex'] == 'F')/len(abcd_baseline)\n",
    "print(f'{round(fem_perc*100,2)}% of the subjects are female. ')\n",
    "m_perc = sum(abcd_baseline['sex'] == 'M')/len(abcd_baseline)\n",
    "print(f'{round(m_perc*100,2)}% of the subjects are male. ')"
   ]
  },
  {
   "cell_type": "code",
   "execution_count": 24,
   "id": "bb449533",
   "metadata": {},
   "outputs": [
    {
     "name": "stdout",
     "output_type": "stream",
     "text": [
      "Subjects had a mean age of 9.91. \n",
      "With a standard deviaiton of 0.62. \n"
     ]
    }
   ],
   "source": [
    "# mean age\n",
    "mean_age = (abcd_baseline['interview_age']/12).mean()\n",
    "print(f'Subjects had a mean age of {round(mean_age,2)}. ')\n",
    "sd_age = (abcd_baseline['interview_age']/12).std()\n",
    "print(f'With a standard deviaiton of {round(sd_age,2)}. ')\n",
    "\n"
   ]
  },
  {
   "cell_type": "code",
   "execution_count": 29,
   "id": "71fc06c6",
   "metadata": {},
   "outputs": [
    {
     "name": "stdout",
     "output_type": "stream",
     "text": [
      "There are 8 missing values accounting for 0.00067 of the data set. \n"
     ]
    }
   ],
   "source": [
    "# missing data CBCL baseline\n",
    "# check for missing values\n",
    "null_data = abcd_baseline[abcd_baseline.isnull().any(1)]\n",
    "id_nans = null_data[\"subjectkey\"]\n",
    "mv_perc = len(id_nans)/len(abcd_baseline)\n",
    "print(f'There are {len(id_nans)} missing values accounting for {round(mv_perc,5)}% of the data set. ')\n"
   ]
  },
  {
   "cell_type": "code",
   "execution_count": 51,
   "id": "1fde3144",
   "metadata": {},
   "outputs": [],
   "source": [
    "# gender identity scores\n",
    "df = pd.read_csv(\"data/abcd_pgi01.txt\", sep=\"\\t\", low_memory=False)  # read data\n",
    "data = df.loc[df[\"eventname\"] == \"1_year_follow_up_y_arm_1\"]\n",
    "\n",
    "# split into female data and preprocess\n",
    "data_F = data[data[\"sex\"] == \"F\"]\n",
    "items_F = get_question_items(data_F, \"gish_f\")\n",
    "items_F = items_F.replace(\"777\", None)\n",
    "items_F = items_F.replace(\"0\", None)\n",
    "items_F = items_F.apply(pd.to_numeric)\n",
    "to_drop_F = items_F[items_F.isna().all(axis=1)].index\n",
    "gp_items_F = items_F.drop(to_drop_F, axis=0)\n",
    "\n",
    "# split into male data and preprocess\n",
    "data_M = data[data[\"sex\"] == \"M\"]\n",
    "items_M = get_question_items(data_M, \"gish_m\")\n",
    "items_M = items_M.replace(\"777\", None)\n",
    "items_M = items_M.replace(\"0\", None)\n",
    "items_M = items_M.apply(pd.to_numeric)\n",
    "to_drop_M = items_M[items_M.isna().all(axis=1)].index\n",
    "gp_items_M = items_M.drop(to_drop_M, axis=0)"
   ]
  },
  {
   "cell_type": "code",
   "execution_count": 52,
   "id": "baa65512",
   "metadata": {},
   "outputs": [
    {
     "name": "stdout",
     "output_type": "stream",
     "text": [
      "For the parent report the mean was 3.832029899390378 for girls with a SD of 0.800488710272671 and for the boys it was 4.158826163876931 with a SD of 0.64309589533768. \n"
     ]
    }
   ],
   "source": [
    "print(f'For the parent report the mean was {gp_items_F.mean().mean()} for girls with a SD of {gp_items_F.std().mean()} and for the boys it was {gp_items_M.mean().mean()} with a SD of {gp_items_M.std().mean()}. ')\n"
   ]
  },
  {
   "cell_type": "code",
   "execution_count": 44,
   "id": "2693b242",
   "metadata": {},
   "outputs": [],
   "source": [
    "df = pd.read_csv(\"data/abcd_ygi01.txt\", sep=\"\\t\", low_memory=False)  # read data\n",
    "data = df.loc[df[\"eventname\"] == \"1_year_follow_up_y_arm_1\"]\n",
    "\n",
    "# split into female data and preprocess\n",
    "data_F = data[data[\"sex\"] == \"F\"]\n",
    "items_F = get_question_items(data_F, \"gish_f\")\n",
    "items_F = items_F.replace(\"777\", None)\n",
    "items_F = items_F.replace(\"0\", None)\n",
    "items_F = items_F.apply(pd.to_numeric)\n",
    "to_drop_F = items_F[items_F.isna().all(axis=1)].index\n",
    "gp_items_F = items_F.drop(to_drop_F, axis=0)\n",
    "\n",
    "# split into male data and preprocess\n",
    "data_M = data[data[\"sex\"] == \"M\"]\n",
    "items_M = get_question_items(data_M, \"gish_m\")\n",
    "items_M = items_M.replace(\"777\", None)\n",
    "items_M = items_M.replace(\"0\", None)\n",
    "items_M = items_M.apply(pd.to_numeric)\n",
    "to_drop_M = items_M[items_M.isna().all(axis=1)].index\n",
    "gp_items_M = items_M.drop(to_drop_M, axis=0)"
   ]
  },
  {
   "cell_type": "code",
   "execution_count": 50,
   "id": "7167c603",
   "metadata": {},
   "outputs": [
    {
     "name": "stdout",
     "output_type": "stream",
     "text": [
      "For the parent report the mean was 4.663249940332344 for girls with a SD of 0.7312965257301627 and for the boys it was 4.885514921127626 with a SD of 0.41381178154643883. \n"
     ]
    }
   ],
   "source": [
    "print(f'For the parent report the mean was {gp_items_F.mean().mean()} for girls with a SD of {gp_items_F.std().mean()} and for the boys it was {gp_items_M.mean().mean()} with a SD of {gp_items_M.std().mean()}. ')\n"
   ]
  },
  {
   "cell_type": "code",
   "execution_count": 84,
   "id": "9881ab2b",
   "metadata": {},
   "outputs": [],
   "source": [
    "df = pd.read_csv(\"data/abcd_pgi01.txt\", sep=\"\\t\", low_memory=False)  # read data\n",
    "data = df.loc[df[\"eventname\"] == \"1_year_follow_up_y_arm_1\"]\n",
    "items = get_question_items(data, \"gish_\")\n",
    "items = items.replace(\"777\", None)\n",
    "items = items.replace(\"0\", None)\n",
    "items = items.apply(pd.to_numeric)\n",
    "to_drop = items[items.isna().all(axis=1)].index\n",
    "gp_items = items.drop(to_drop, axis=0)\n"
   ]
  },
  {
   "cell_type": "code",
   "execution_count": 85,
   "id": "cf5bd7cd",
   "metadata": {},
   "outputs": [
    {
     "data": {
      "text/plain": [
       "3.9946926168548558"
      ]
     },
     "execution_count": 85,
     "metadata": {},
     "output_type": "execute_result"
    }
   ],
   "source": [
    "gp_items.iloc[:,1:].mean().mean()"
   ]
  },
  {
   "cell_type": "code",
   "execution_count": 86,
   "id": "3e657fdb",
   "metadata": {},
   "outputs": [
    {
     "data": {
      "text/plain": [
       "0.7237184822645197"
      ]
     },
     "execution_count": 86,
     "metadata": {},
     "output_type": "execute_result"
    }
   ],
   "source": [
    "gp_items.iloc[:,1:].std().mean()"
   ]
  },
  {
   "cell_type": "code",
   "execution_count": 87,
   "id": "8981a846",
   "metadata": {},
   "outputs": [
    {
     "data": {
      "text/plain": [
       "4.755680416275806"
      ]
     },
     "execution_count": 87,
     "metadata": {},
     "output_type": "execute_result"
    }
   ],
   "source": [
    "df = pd.read_csv(\"data/abcd_ygi01.txt\", sep=\"\\t\", low_memory=False)  # read data\n",
    "data = df.loc[df[\"eventname\"] == \"1_year_follow_up_y_arm_1\"]\n",
    "items = get_question_items(data, \"gish_\")\n",
    "items = items.replace(\"777\", None)\n",
    "items = items.replace(\"0\", None)\n",
    "items = items.apply(pd.to_numeric)\n",
    "to_drop = items[items.isna().all(axis=1)].index\n",
    "gp_items = items.drop(to_drop, axis=0)\n",
    "\n",
    "gp_items.iloc[:,1:].mean().mean()"
   ]
  },
  {
   "cell_type": "code",
   "execution_count": 88,
   "id": "c63fc1e1",
   "metadata": {},
   "outputs": [
    {
     "data": {
      "text/plain": [
       "0.6014994377742031"
      ]
     },
     "execution_count": 88,
     "metadata": {},
     "output_type": "execute_result"
    }
   ],
   "source": [
    "gp_items.iloc[:,1:].std().mean()"
   ]
  },
  {
   "cell_type": "code",
   "execution_count": 91,
   "id": "1007b5ba",
   "metadata": {},
   "outputs": [
    {
     "data": {
      "text/plain": [
       "5"
      ]
     },
     "execution_count": 91,
     "metadata": {},
     "output_type": "execute_result"
    }
   ],
   "source": [
    "# remove items for which the frequency is too low (99.5% rated 0)\n",
    "count_zero = (get_question_items(abcd_baseline, \"cbcl_q\") == 0).sum()\n",
    "id_zeros = count_zero[count_zero.divide(len(abcd_baseline)) > .995]\n",
    "sum(\n",
    "    count_zero.divide(len(abcd_baseline)) > .995\n",
    ")  # n = 5, matches with the original paper"
   ]
  },
  {
   "cell_type": "code",
   "execution_count": 94,
   "id": "cef524b5",
   "metadata": {},
   "outputs": [
    {
     "data": {
      "text/html": [
       "<div>\n",
       "<style scoped>\n",
       "    .dataframe tbody tr th:only-of-type {\n",
       "        vertical-align: middle;\n",
       "    }\n",
       "\n",
       "    .dataframe tbody tr th {\n",
       "        vertical-align: top;\n",
       "    }\n",
       "\n",
       "    .dataframe thead th {\n",
       "        text-align: right;\n",
       "    }\n",
       "</style>\n",
       "<table border=\"1\" class=\"dataframe\">\n",
       "  <thead>\n",
       "    <tr style=\"text-align: right;\">\n",
       "      <th></th>\n",
       "      <th>cbcl_q01_p</th>\n",
       "      <th>cbcl_q02_p</th>\n",
       "      <th>cbcl_q03_p</th>\n",
       "      <th>cbcl_q04_p</th>\n",
       "      <th>cbcl_q05_p</th>\n",
       "      <th>cbcl_q06_p</th>\n",
       "      <th>cbcl_q07_p</th>\n",
       "      <th>cbcl_q08_p</th>\n",
       "      <th>cbcl_q09_p</th>\n",
       "      <th>cbcl_q10_p</th>\n",
       "      <th>...</th>\n",
       "      <th>cbcl_q103_p</th>\n",
       "      <th>cbcl_q104_p</th>\n",
       "      <th>cbcl_q105_p</th>\n",
       "      <th>cbcl_q106_p</th>\n",
       "      <th>cbcl_q107_p</th>\n",
       "      <th>cbcl_q108_p</th>\n",
       "      <th>cbcl_q109_p</th>\n",
       "      <th>cbcl_q110_p</th>\n",
       "      <th>cbcl_q111_p</th>\n",
       "      <th>cbcl_q112_p</th>\n",
       "    </tr>\n",
       "  </thead>\n",
       "  <tbody>\n",
       "    <tr>\n",
       "      <th>2</th>\n",
       "      <td>0.0</td>\n",
       "      <td>0.0</td>\n",
       "      <td>0.0</td>\n",
       "      <td>0.0</td>\n",
       "      <td>0.0</td>\n",
       "      <td>0.0</td>\n",
       "      <td>1.0</td>\n",
       "      <td>0.0</td>\n",
       "      <td>0.0</td>\n",
       "      <td>0.0</td>\n",
       "      <td>...</td>\n",
       "      <td>0.0</td>\n",
       "      <td>0.0</td>\n",
       "      <td>0.0</td>\n",
       "      <td>0.0</td>\n",
       "      <td>0.0</td>\n",
       "      <td>0.0</td>\n",
       "      <td>0.0</td>\n",
       "      <td>0.0</td>\n",
       "      <td>0.0</td>\n",
       "      <td>0.0</td>\n",
       "    </tr>\n",
       "    <tr>\n",
       "      <th>8</th>\n",
       "      <td>0.0</td>\n",
       "      <td>0.0</td>\n",
       "      <td>0.0</td>\n",
       "      <td>0.0</td>\n",
       "      <td>0.0</td>\n",
       "      <td>0.0</td>\n",
       "      <td>0.0</td>\n",
       "      <td>0.0</td>\n",
       "      <td>0.0</td>\n",
       "      <td>0.0</td>\n",
       "      <td>...</td>\n",
       "      <td>0.0</td>\n",
       "      <td>0.0</td>\n",
       "      <td>0.0</td>\n",
       "      <td>0.0</td>\n",
       "      <td>0.0</td>\n",
       "      <td>0.0</td>\n",
       "      <td>0.0</td>\n",
       "      <td>0.0</td>\n",
       "      <td>0.0</td>\n",
       "      <td>0.0</td>\n",
       "    </tr>\n",
       "    <tr>\n",
       "      <th>18</th>\n",
       "      <td>0.0</td>\n",
       "      <td>0.0</td>\n",
       "      <td>0.0</td>\n",
       "      <td>1.0</td>\n",
       "      <td>0.0</td>\n",
       "      <td>0.0</td>\n",
       "      <td>0.0</td>\n",
       "      <td>2.0</td>\n",
       "      <td>0.0</td>\n",
       "      <td>1.0</td>\n",
       "      <td>...</td>\n",
       "      <td>0.0</td>\n",
       "      <td>1.0</td>\n",
       "      <td>0.0</td>\n",
       "      <td>0.0</td>\n",
       "      <td>0.0</td>\n",
       "      <td>1.0</td>\n",
       "      <td>0.0</td>\n",
       "      <td>0.0</td>\n",
       "      <td>0.0</td>\n",
       "      <td>0.0</td>\n",
       "    </tr>\n",
       "    <tr>\n",
       "      <th>23</th>\n",
       "      <td>0.0</td>\n",
       "      <td>0.0</td>\n",
       "      <td>0.0</td>\n",
       "      <td>0.0</td>\n",
       "      <td>1.0</td>\n",
       "      <td>0.0</td>\n",
       "      <td>0.0</td>\n",
       "      <td>0.0</td>\n",
       "      <td>0.0</td>\n",
       "      <td>0.0</td>\n",
       "      <td>...</td>\n",
       "      <td>0.0</td>\n",
       "      <td>1.0</td>\n",
       "      <td>0.0</td>\n",
       "      <td>0.0</td>\n",
       "      <td>0.0</td>\n",
       "      <td>0.0</td>\n",
       "      <td>0.0</td>\n",
       "      <td>0.0</td>\n",
       "      <td>0.0</td>\n",
       "      <td>0.0</td>\n",
       "    </tr>\n",
       "    <tr>\n",
       "      <th>27</th>\n",
       "      <td>1.0</td>\n",
       "      <td>0.0</td>\n",
       "      <td>0.0</td>\n",
       "      <td>0.0</td>\n",
       "      <td>0.0</td>\n",
       "      <td>0.0</td>\n",
       "      <td>1.0</td>\n",
       "      <td>0.0</td>\n",
       "      <td>1.0</td>\n",
       "      <td>0.0</td>\n",
       "      <td>...</td>\n",
       "      <td>0.0</td>\n",
       "      <td>0.0</td>\n",
       "      <td>0.0</td>\n",
       "      <td>0.0</td>\n",
       "      <td>0.0</td>\n",
       "      <td>0.0</td>\n",
       "      <td>1.0</td>\n",
       "      <td>0.0</td>\n",
       "      <td>0.0</td>\n",
       "      <td>1.0</td>\n",
       "    </tr>\n",
       "    <tr>\n",
       "      <th>...</th>\n",
       "      <td>...</td>\n",
       "      <td>...</td>\n",
       "      <td>...</td>\n",
       "      <td>...</td>\n",
       "      <td>...</td>\n",
       "      <td>...</td>\n",
       "      <td>...</td>\n",
       "      <td>...</td>\n",
       "      <td>...</td>\n",
       "      <td>...</td>\n",
       "      <td>...</td>\n",
       "      <td>...</td>\n",
       "      <td>...</td>\n",
       "      <td>...</td>\n",
       "      <td>...</td>\n",
       "      <td>...</td>\n",
       "      <td>...</td>\n",
       "      <td>...</td>\n",
       "      <td>...</td>\n",
       "      <td>...</td>\n",
       "      <td>...</td>\n",
       "    </tr>\n",
       "    <tr>\n",
       "      <th>39758</th>\n",
       "      <td>2.0</td>\n",
       "      <td>0.0</td>\n",
       "      <td>1.0</td>\n",
       "      <td>2.0</td>\n",
       "      <td>0.0</td>\n",
       "      <td>0.0</td>\n",
       "      <td>0.0</td>\n",
       "      <td>2.0</td>\n",
       "      <td>2.0</td>\n",
       "      <td>1.0</td>\n",
       "      <td>...</td>\n",
       "      <td>1.0</td>\n",
       "      <td>1.0</td>\n",
       "      <td>0.0</td>\n",
       "      <td>0.0</td>\n",
       "      <td>0.0</td>\n",
       "      <td>0.0</td>\n",
       "      <td>0.0</td>\n",
       "      <td>0.0</td>\n",
       "      <td>2.0</td>\n",
       "      <td>1.0</td>\n",
       "    </tr>\n",
       "    <tr>\n",
       "      <th>39759</th>\n",
       "      <td>0.0</td>\n",
       "      <td>0.0</td>\n",
       "      <td>1.0</td>\n",
       "      <td>1.0</td>\n",
       "      <td>0.0</td>\n",
       "      <td>0.0</td>\n",
       "      <td>1.0</td>\n",
       "      <td>0.0</td>\n",
       "      <td>0.0</td>\n",
       "      <td>0.0</td>\n",
       "      <td>...</td>\n",
       "      <td>0.0</td>\n",
       "      <td>0.0</td>\n",
       "      <td>0.0</td>\n",
       "      <td>0.0</td>\n",
       "      <td>0.0</td>\n",
       "      <td>0.0</td>\n",
       "      <td>1.0</td>\n",
       "      <td>0.0</td>\n",
       "      <td>0.0</td>\n",
       "      <td>0.0</td>\n",
       "    </tr>\n",
       "    <tr>\n",
       "      <th>39762</th>\n",
       "      <td>0.0</td>\n",
       "      <td>0.0</td>\n",
       "      <td>0.0</td>\n",
       "      <td>1.0</td>\n",
       "      <td>0.0</td>\n",
       "      <td>0.0</td>\n",
       "      <td>0.0</td>\n",
       "      <td>0.0</td>\n",
       "      <td>0.0</td>\n",
       "      <td>0.0</td>\n",
       "      <td>...</td>\n",
       "      <td>0.0</td>\n",
       "      <td>0.0</td>\n",
       "      <td>0.0</td>\n",
       "      <td>0.0</td>\n",
       "      <td>0.0</td>\n",
       "      <td>0.0</td>\n",
       "      <td>0.0</td>\n",
       "      <td>0.0</td>\n",
       "      <td>1.0</td>\n",
       "      <td>0.0</td>\n",
       "    </tr>\n",
       "    <tr>\n",
       "      <th>39763</th>\n",
       "      <td>0.0</td>\n",
       "      <td>0.0</td>\n",
       "      <td>0.0</td>\n",
       "      <td>0.0</td>\n",
       "      <td>0.0</td>\n",
       "      <td>0.0</td>\n",
       "      <td>0.0</td>\n",
       "      <td>0.0</td>\n",
       "      <td>0.0</td>\n",
       "      <td>0.0</td>\n",
       "      <td>...</td>\n",
       "      <td>0.0</td>\n",
       "      <td>0.0</td>\n",
       "      <td>0.0</td>\n",
       "      <td>0.0</td>\n",
       "      <td>0.0</td>\n",
       "      <td>0.0</td>\n",
       "      <td>0.0</td>\n",
       "      <td>0.0</td>\n",
       "      <td>0.0</td>\n",
       "      <td>0.0</td>\n",
       "    </tr>\n",
       "    <tr>\n",
       "      <th>39765</th>\n",
       "      <td>0.0</td>\n",
       "      <td>0.0</td>\n",
       "      <td>0.0</td>\n",
       "      <td>0.0</td>\n",
       "      <td>0.0</td>\n",
       "      <td>0.0</td>\n",
       "      <td>0.0</td>\n",
       "      <td>0.0</td>\n",
       "      <td>0.0</td>\n",
       "      <td>0.0</td>\n",
       "      <td>...</td>\n",
       "      <td>0.0</td>\n",
       "      <td>0.0</td>\n",
       "      <td>0.0</td>\n",
       "      <td>0.0</td>\n",
       "      <td>0.0</td>\n",
       "      <td>0.0</td>\n",
       "      <td>0.0</td>\n",
       "      <td>0.0</td>\n",
       "      <td>0.0</td>\n",
       "      <td>0.0</td>\n",
       "    </tr>\n",
       "  </tbody>\n",
       "</table>\n",
       "<p>11876 rows × 119 columns</p>\n",
       "</div>"
      ],
      "text/plain": [
       "       cbcl_q01_p  cbcl_q02_p  cbcl_q03_p  cbcl_q04_p  cbcl_q05_p  cbcl_q06_p  \\\n",
       "2             0.0         0.0         0.0         0.0         0.0         0.0   \n",
       "8             0.0         0.0         0.0         0.0         0.0         0.0   \n",
       "18            0.0         0.0         0.0         1.0         0.0         0.0   \n",
       "23            0.0         0.0         0.0         0.0         1.0         0.0   \n",
       "27            1.0         0.0         0.0         0.0         0.0         0.0   \n",
       "...           ...         ...         ...         ...         ...         ...   \n",
       "39758         2.0         0.0         1.0         2.0         0.0         0.0   \n",
       "39759         0.0         0.0         1.0         1.0         0.0         0.0   \n",
       "39762         0.0         0.0         0.0         1.0         0.0         0.0   \n",
       "39763         0.0         0.0         0.0         0.0         0.0         0.0   \n",
       "39765         0.0         0.0         0.0         0.0         0.0         0.0   \n",
       "\n",
       "       cbcl_q07_p  cbcl_q08_p  cbcl_q09_p  cbcl_q10_p  ...  cbcl_q103_p  \\\n",
       "2             1.0         0.0         0.0         0.0  ...          0.0   \n",
       "8             0.0         0.0         0.0         0.0  ...          0.0   \n",
       "18            0.0         2.0         0.0         1.0  ...          0.0   \n",
       "23            0.0         0.0         0.0         0.0  ...          0.0   \n",
       "27            1.0         0.0         1.0         0.0  ...          0.0   \n",
       "...           ...         ...         ...         ...  ...          ...   \n",
       "39758         0.0         2.0         2.0         1.0  ...          1.0   \n",
       "39759         1.0         0.0         0.0         0.0  ...          0.0   \n",
       "39762         0.0         0.0         0.0         0.0  ...          0.0   \n",
       "39763         0.0         0.0         0.0         0.0  ...          0.0   \n",
       "39765         0.0         0.0         0.0         0.0  ...          0.0   \n",
       "\n",
       "       cbcl_q104_p  cbcl_q105_p  cbcl_q106_p  cbcl_q107_p  cbcl_q108_p  \\\n",
       "2              0.0          0.0          0.0          0.0          0.0   \n",
       "8              0.0          0.0          0.0          0.0          0.0   \n",
       "18             1.0          0.0          0.0          0.0          1.0   \n",
       "23             1.0          0.0          0.0          0.0          0.0   \n",
       "27             0.0          0.0          0.0          0.0          0.0   \n",
       "...            ...          ...          ...          ...          ...   \n",
       "39758          1.0          0.0          0.0          0.0          0.0   \n",
       "39759          0.0          0.0          0.0          0.0          0.0   \n",
       "39762          0.0          0.0          0.0          0.0          0.0   \n",
       "39763          0.0          0.0          0.0          0.0          0.0   \n",
       "39765          0.0          0.0          0.0          0.0          0.0   \n",
       "\n",
       "       cbcl_q109_p  cbcl_q110_p  cbcl_q111_p  cbcl_q112_p  \n",
       "2              0.0          0.0          0.0          0.0  \n",
       "8              0.0          0.0          0.0          0.0  \n",
       "18             0.0          0.0          0.0          0.0  \n",
       "23             0.0          0.0          0.0          0.0  \n",
       "27             1.0          0.0          0.0          1.0  \n",
       "...            ...          ...          ...          ...  \n",
       "39758          0.0          0.0          2.0          1.0  \n",
       "39759          1.0          0.0          0.0          0.0  \n",
       "39762          0.0          0.0          1.0          0.0  \n",
       "39763          0.0          0.0          0.0          0.0  \n",
       "39765          0.0          0.0          0.0          0.0  \n",
       "\n",
       "[11876 rows x 119 columns]"
      ]
     },
     "execution_count": 94,
     "metadata": {},
     "output_type": "execute_result"
    }
   ],
   "source": [
    "get_question_items(abcd_baseline, 'cbcl_q')"
   ]
  },
  {
   "cell_type": "code",
   "execution_count": 99,
   "id": "0bb54c58",
   "metadata": {},
   "outputs": [],
   "source": [
    "header = pd.read_csv(\n",
    "    \"data/abcd_cbcl01.txt\", header=None, sep=\"\\t\", nrows=2\n",
    ")  # read header\n",
    "# load data and use header info to name columns\n",
    "data = pd.read_csv(\n",
    "    \"data/abcd_cbcl01.txt\", header=None, sep=\"\\t\", skiprows=2\n",
    ")  # read data\n",
    "data.columns = list(header.iloc[0, :])\n",
    "df = data\n"
   ]
  },
  {
   "cell_type": "code",
   "execution_count": 101,
   "id": "d27ca018",
   "metadata": {},
   "outputs": [],
   "source": [
    "df = df.drop_duplicates(\n",
    "            subset=[\"subjectkey\", \"interview_date\", \"interview_age\"], ignore_index=False\n",
    "        )"
   ]
  },
  {
   "cell_type": "markdown",
   "id": "54ea6e74",
   "metadata": {},
   "source": [
    "## Descriptive Statistics One-Year Follow-Up"
   ]
  },
  {
   "cell_type": "code",
   "execution_count": 103,
   "id": "bf9cd3e7",
   "metadata": {},
   "outputs": [],
   "source": [
    "abcd_followup = abcd_data(measurement = '1y_follow_up', load = True)"
   ]
  },
  {
   "cell_type": "code",
   "execution_count": 106,
   "id": "87ee566a",
   "metadata": {},
   "outputs": [
    {
     "name": "stdout",
     "output_type": "stream",
     "text": [
      "47.69% of the subjects are female. \n",
      "52.31% of the subjects are male. \n"
     ]
    }
   ],
   "source": [
    "# sex ratio\n",
    "fem_perc = sum(abcd_followup['sex'] == 'F')/len(abcd_followup)\n",
    "print(f'{round(fem_perc*100,2)}% of the subjects are female. ')\n",
    "m_perc = sum(abcd_followup['sex'] == 'M')/len(abcd_followup)\n",
    "print(f'{round(m_perc*100,2)}% of the subjects are male. ')"
   ]
  },
  {
   "cell_type": "code",
   "execution_count": 107,
   "id": "b2c440cc",
   "metadata": {},
   "outputs": [
    {
     "name": "stdout",
     "output_type": "stream",
     "text": [
      "Subjects had a mean age of 10.92. \n",
      "With a standard deviaiton of 0.64. \n"
     ]
    }
   ],
   "source": [
    "# mean age\n",
    "mean_age = (abcd_followup['interview_age']/12).mean()\n",
    "print(f'Subjects had a mean age of {round(mean_age,2)}. ')\n",
    "sd_age = (abcd_followup['interview_age']/12).std()\n",
    "print(f'With a standard deviaiton of {round(sd_age,2)}. ')\n"
   ]
  },
  {
   "cell_type": "code",
   "execution_count": 108,
   "id": "10c15c42",
   "metadata": {},
   "outputs": [
    {
     "name": "stdout",
     "output_type": "stream",
     "text": [
      "There are 19 missing values accounting for 0.00169% of the data set. \n"
     ]
    }
   ],
   "source": [
    "# missing data CBCL \n",
    "# check for missing values\n",
    "null_data = abcd_followup[abcd_followup.isnull().any(1)]\n",
    "id_nans = null_data[\"subjectkey\"]\n",
    "mv_perc = len(id_nans)/len(abcd_followup)\n",
    "print(f'There are {len(id_nans)} missing values accounting for {round(mv_perc,5)}% of the data set. ')\n",
    "\n"
   ]
  },
  {
   "cell_type": "code",
   "execution_count": 109,
   "id": "f9baa9d8",
   "metadata": {},
   "outputs": [
    {
     "data": {
      "text/plain": [
       "4"
      ]
     },
     "execution_count": 109,
     "metadata": {},
     "output_type": "execute_result"
    }
   ],
   "source": [
    "# remove items for which the frequency is too low (99.5% rated 0)\n",
    "count_zero = (get_question_items(abcd_followup, \"cbcl_q\") == 0).sum()\n",
    "id_zeros = count_zero[count_zero.divide(len(abcd_followup)) > .995]\n",
    "sum(\n",
    "    count_zero.divide(len(abcd_followup)) > .995\n",
    ")  # n = 4, matches with the original paper"
   ]
  },
  {
   "cell_type": "code",
   "execution_count": null,
   "id": "59be305e",
   "metadata": {},
   "outputs": [],
   "source": []
  }
 ],
 "metadata": {
  "kernelspec": {
   "display_name": "Python 3 (ipykernel)",
   "language": "python",
   "name": "python3"
  },
  "language_info": {
   "codemirror_mode": {
    "name": "ipython",
    "version": 3
   },
   "file_extension": ".py",
   "mimetype": "text/x-python",
   "name": "python",
   "nbconvert_exporter": "python",
   "pygments_lexer": "ipython3",
   "version": "3.9.13"
  }
 },
 "nbformat": 4,
 "nbformat_minor": 5
}
